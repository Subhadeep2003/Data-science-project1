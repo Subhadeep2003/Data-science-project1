{
 "cells": [
  {
   "cell_type": "code",
   "execution_count": 2,
   "id": "a32727a1-c373-4eab-89bf-cbbd9c05fde0",
   "metadata": {},
   "outputs": [],
   "source": [
    "import json"
   ]
  },
  {
   "cell_type": "code",
   "execution_count": 4,
   "id": "c01b6765-06b5-4565-843c-baf076780e75",
   "metadata": {},
   "outputs": [],
   "source": [
    "#function to load the data\n",
    "def load_data(filename):\n",
    "    with open(filename,\"r\") as f:\n",
    "        return json.load(f)\n",
    "    return data"
   ]
  },
  {
   "cell_type": "code",
   "execution_count": 6,
   "id": "40077ac4-a309-49c5-997f-2ac8bf9d5366",
   "metadata": {},
   "outputs": [],
   "source": [
    "#function to find pages a user might like based on common interests\n",
    "def find_pages_you_might_like(user_id,data):\n",
    "    #Dictionary to store user interaction with pages\n",
    "    user_pages = {}\n",
    "\n",
    "    #Populate the dictionary\n",
    "    for user in data['users']:\n",
    "        user_pages[user['id']] = set(user['liked_pages'])\n",
    "\n",
    "    #If the user is not found, return an empty list\n",
    "    if user_id not in user_pages:\n",
    "        return[]\n",
    "    \n",
    "    user_liked_pages = user_pages[user_id]\n",
    "    page_suggestion = {}\n",
    "\n",
    "    for other_user,pages in user_pages.items():\n",
    "        if other_user!= user_id:\n",
    "            shared_pages = user_liked_pages.intersection(pages)\n",
    "        for page in pages:\n",
    "            if page not in user_liked_pages:\n",
    "                page_suggestion[page] = page_suggestion.get(page,0)+len(shared_pages)\n",
    "\n",
    "    sorted_pages = sorted(page_suggestion.items(),key=lambda x:x[1],reverse=True)\n",
    "    return[(page_id,score) for page_id,score in sorted_pages]"
   ]
  },
  {
   "cell_type": "code",
   "execution_count": 8,
   "id": "76764981-6909-424f-b2de-d7a5fb7765e4",
   "metadata": {},
   "outputs": [
    {
     "name": "stdout",
     "output_type": "stream",
     "text": [
      "[(103, 2), (105, 1), (107, 1), (104, 0), (106, 0), (108, 0), (109, 0), (110, 0), (111, 0), (112, 0), (113, 0), (114, 0), (115, 0), (116, 0), (117, 0), (118, 0), (119, 0), (120, 0), (121, 0), (122, 0), (123, 0), (124, 0), (125, 0), (126, 0), (127, 0)]\n"
     ]
    }
   ],
   "source": [
    "#Load the data\n",
    "data = load_data('massive_data.json')\n",
    "user_id = 1\n",
    "page_recommendation = find_pages_you_might_like(user_id,data)\n",
    "print(page_recommendation)"
   ]
  },
  {
   "cell_type": "code",
   "execution_count": null,
   "id": "494ac1eb-bff8-4ec8-a133-97c27a1b45b3",
   "metadata": {},
   "outputs": [],
   "source": []
  }
 ],
 "metadata": {
  "kernelspec": {
   "display_name": "Python [conda env:base] *",
   "language": "python",
   "name": "conda-base-py"
  },
  "language_info": {
   "codemirror_mode": {
    "name": "ipython",
    "version": 3
   },
   "file_extension": ".py",
   "mimetype": "text/x-python",
   "name": "python",
   "nbconvert_exporter": "python",
   "pygments_lexer": "ipython3",
   "version": "3.12.7"
  }
 },
 "nbformat": 4,
 "nbformat_minor": 5
}
