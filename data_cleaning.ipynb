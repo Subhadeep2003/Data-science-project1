{
 "cells": [
  {
   "cell_type": "code",
   "execution_count": 7,
   "id": "6850865e-e85b-42e9-9737-787be9e966a7",
   "metadata": {},
   "outputs": [],
   "source": [
    "import json"
   ]
  },
  {
   "cell_type": "code",
   "execution_count": 27,
   "id": "9d56708f-b343-4171-b0aa-788bab3f8f6c",
   "metadata": {},
   "outputs": [],
   "source": [
    "#Clean the data\n",
    "def clean_data(data):\n",
    "    #Remove users with missing names\n",
    "    data['users'] = [user for user in data['users'] if user['name'].strip()]\n",
    "    #Remove duplicate friends\n",
    "    for user in data['users']:\n",
    "        user['friends'] = list(set(user['friends']))\n",
    "    #Remove inactive users\n",
    "    data['users'] = [user for user in data['users'] if user['friends'] or user['liked_pages']]\n",
    "\n",
    "    #Remove duplicate pages\n",
    "    unique_pages={}\n",
    "    for page in data['pages']:\n",
    "        unique_pages[page['id']] = page\n",
    "    data['pages'] = list(unique_pages.values())\n",
    "    return data"
   ]
  },
  {
   "cell_type": "code",
   "execution_count": 29,
   "id": "c017e48e-ea3a-42b6-8bb4-faef0dd6632e",
   "metadata": {},
   "outputs": [
    {
     "name": "stdout",
     "output_type": "stream",
     "text": [
      "Data has cleaned successfully\n"
     ]
    }
   ],
   "source": [
    "#Load the data\n",
    "data = json.load(open(\"data2.json\"))\n",
    "data = clean_data(data)\n",
    "json.dump(data,open(\"cleaned_data2.json\",\"w\"),indent=4)\n",
    "print(\"Data has cleaned successfully\")"
   ]
  }
 ],
 "metadata": {
  "kernelspec": {
   "display_name": "Python [conda env:base] *",
   "language": "python",
   "name": "conda-base-py"
  },
  "language_info": {
   "codemirror_mode": {
    "name": "ipython",
    "version": 3
   },
   "file_extension": ".py",
   "mimetype": "text/x-python",
   "name": "python",
   "nbconvert_exporter": "python",
   "pygments_lexer": "ipython3",
   "version": "3.12.7"
  }
 },
 "nbformat": 4,
 "nbformat_minor": 5
}
