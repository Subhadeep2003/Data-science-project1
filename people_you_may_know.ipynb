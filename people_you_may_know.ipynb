{
 "cells": [
  {
   "cell_type": "code",
   "execution_count": 6,
   "id": "9fa057c5-d632-4bf0-824f-21b5a43a8b1d",
   "metadata": {},
   "outputs": [],
   "source": [
    "import json"
   ]
  },
  {
   "cell_type": "code",
   "execution_count": 8,
   "id": "977c10d8-b55d-457e-83b3-2c3b33f43632",
   "metadata": {},
   "outputs": [],
   "source": [
    "def load_data(filename):\n",
    "    with open(filename,\"r\") as f:\n",
    "        data = json.load(f)\n",
    "    return data"
   ]
  },
  {
   "cell_type": "code",
   "execution_count": 32,
   "id": "6e1cde63-e727-45b6-a996-a44aeb70fcda",
   "metadata": {},
   "outputs": [],
   "source": [
    "def find_people_you_may_know(user_id,data):\n",
    "    user_friends = {}\n",
    "    for user in data['users']:\n",
    "        user_friends[user['id']] = set(user['friends'])\n",
    "\n",
    "    if user_id not in user_friends:\n",
    "        return[]\n",
    "\n",
    "    direct_friends = user_friends[user_id]\n",
    "    suggestions = {}\n",
    "    for friend in direct_friends:\n",
    "        for mutual in user_friends[friend]:\n",
    "            if mutual!=user_id and mutual not in direct_friends:\n",
    "                #count mutual friends\n",
    "                suggestions[mutual] = suggestions.get(mutual,0)+1\n",
    "\n",
    "    sorted_suggestions = sorted(suggestions.items(),key=lambda x:x[1],reverse = True)\n",
    "    return[(user_id, mutual_count) for user_id,mutual_count in sorted_suggestions]"
   ]
  },
  {
   "cell_type": "code",
   "execution_count": 34,
   "id": "caa7eb12-8f54-4b4a-9962-acf34544dd5e",
   "metadata": {},
   "outputs": [
    {
     "name": "stdout",
     "output_type": "stream",
     "text": [
      "[(11, 3), (6, 2), (4, 2), (7, 2), (14, 2), (15, 2), (18, 2), (1, 1), (2, 1), (3, 1), (13, 1), (22, 1)]\n"
     ]
    }
   ],
   "source": [
    "#Load the data\n",
    "data = load_data('massive_data.json')\n",
    "user_id = 10\n",
    "recc = find_people_you_may_know(user_id,data)\n",
    "print(recc)"
   ]
  },
  {
   "cell_type": "code",
   "execution_count": null,
   "id": "c89591cd-081b-47c3-a119-340c8ddf02b6",
   "metadata": {},
   "outputs": [],
   "source": []
  }
 ],
 "metadata": {
  "kernelspec": {
   "display_name": "Python [conda env:base] *",
   "language": "python",
   "name": "conda-base-py"
  },
  "language_info": {
   "codemirror_mode": {
    "name": "ipython",
    "version": 3
   },
   "file_extension": ".py",
   "mimetype": "text/x-python",
   "name": "python",
   "nbconvert_exporter": "python",
   "pygments_lexer": "ipython3",
   "version": "3.12.7"
  }
 },
 "nbformat": 4,
 "nbformat_minor": 5
}
