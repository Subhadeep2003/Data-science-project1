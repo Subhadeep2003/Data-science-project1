import json


#function to load the data
def load_data(filename):
    with open(filename,"r") as f:
        return json.load(f)
    return data


#function to find pages a user might like based on common interests
def find_pages_you_might_like(user_id,data):
    #Dictionary to store user interactive with pages
    user_pages = {}

    #Populate the dictionary
    for user in data['users']:
        user_pages[user['id']] = set(user['liked_pages'])

    #If the user is not found, return an empty list
    if user_id not in user_pages:
        return[]
    
    user_liked_pages = user_pages[user_id]
    page_suggestion = {}

    for other_user,pages in user_pages.items():
        if other_user!= user_id:
            shared_pages = user_liked_pages.intersection(pages)
        for page in pages:
            if page not in user_liked_pages:
                page_suggestion[page] = page_suggestion.get(page,0)+len(shared_pages)

    sorted_pages = sorted(page_suggestion.items(),key=lambda x:x[1],reverse=True)
    return[(page_id,score) for page_id,score in sorted_pages]


#Load the data
data = load_data('massive_data.json')
user_id = 1
page_recommendation = find_pages_you_might_like(user_id,data)
print(page_recommendation)



